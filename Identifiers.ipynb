{
 "cells": [
  {
   "cell_type": "markdown",
   "id": "6849757a-43bc-4559-a82b-23541133f655",
   "metadata": {},
   "source": [
    "#### Rules of Identifiers :-"
   ]
  },
  {
   "cell_type": "markdown",
   "id": "767767bf-1cea-4a60-a2e7-8e9a3a406653",
   "metadata": {},
   "source": [
    "1. In identifier Part we can Pass both alphabets(upper case/Lower case)"
   ]
  },
  {
   "cell_type": "code",
   "execution_count": 1,
   "id": "b5b4d85f-ef00-419a-a907-cf88ea075244",
   "metadata": {},
   "outputs": [
    {
     "data": {
      "text/plain": [
       "10"
      ]
     },
     "execution_count": 1,
     "metadata": {},
     "output_type": "execute_result"
    }
   ],
   "source": [
    "ab = 10\n",
    "ab"
   ]
  },
  {
   "cell_type": "code",
   "execution_count": 2,
   "id": "04f3efe4-85b4-4db7-ab66-bb87b185941c",
   "metadata": {},
   "outputs": [
    {
     "data": {
      "text/plain": [
       "15"
      ]
     },
     "execution_count": 2,
     "metadata": {},
     "output_type": "execute_result"
    }
   ],
   "source": [
    "AB = 15\n",
    "AB"
   ]
  },
  {
   "cell_type": "markdown",
   "id": "ee423f64-79f9-4521-b16a-3348b37303f8",
   "metadata": {},
   "source": [
    "2. In identifier part we can use number but should not starts with number"
   ]
  },
  {
   "cell_type": "code",
   "execution_count": 3,
   "id": "a0cc5806-6795-4adb-98d5-4abed261b64b",
   "metadata": {},
   "outputs": [
    {
     "ename": "SyntaxError",
     "evalue": "invalid decimal literal (1590746202.py, line 1)",
     "output_type": "error",
     "traceback": [
      "\u001b[1;36m  Cell \u001b[1;32mIn[3], line 1\u001b[1;36m\u001b[0m\n\u001b[1;33m    1a = 5\u001b[0m\n\u001b[1;37m    ^\u001b[0m\n\u001b[1;31mSyntaxError\u001b[0m\u001b[1;31m:\u001b[0m invalid decimal literal\n"
     ]
    }
   ],
   "source": [
    "1a = 5"
   ]
  },
  {
   "cell_type": "code",
   "execution_count": 4,
   "id": "0f33e165-d5d5-4cac-8559-8fb6a4924648",
   "metadata": {},
   "outputs": [
    {
     "data": {
      "text/plain": [
       "5"
      ]
     },
     "execution_count": 4,
     "metadata": {},
     "output_type": "execute_result"
    }
   ],
   "source": [
    "a1 = 5\n",
    "a1"
   ]
  },
  {
   "cell_type": "markdown",
   "id": "b6245460-4542-4b03-be95-c6273f66b926",
   "metadata": {},
   "source": [
    "3. Special symbol are not allowed except underscore(_)\n"
   ]
  },
  {
   "cell_type": "code",
   "execution_count": 6,
   "id": "7817dd05-43cc-4c2f-96f5-c6a285959701",
   "metadata": {},
   "outputs": [
    {
     "data": {
      "text/plain": [
       "10"
      ]
     },
     "execution_count": 6,
     "metadata": {},
     "output_type": "execute_result"
    }
   ],
   "source": [
    "_a = 10\n",
    "_a"
   ]
  },
  {
   "cell_type": "code",
   "execution_count": 8,
   "id": "9f07d8ec-6db1-4d40-8653-b84f9a9f6e7f",
   "metadata": {},
   "outputs": [
    {
     "ename": "SyntaxError",
     "evalue": "invalid syntax (1134167859.py, line 1)",
     "output_type": "error",
     "traceback": [
      "\u001b[1;36m  Cell \u001b[1;32mIn[8], line 1\u001b[1;36m\u001b[0m\n\u001b[1;33m    a% = 20\u001b[0m\n\u001b[1;37m       ^\u001b[0m\n\u001b[1;31mSyntaxError\u001b[0m\u001b[1;31m:\u001b[0m invalid syntax\n"
     ]
    }
   ],
   "source": [
    "a% = 20\n",
    "a%"
   ]
  },
  {
   "cell_type": "markdown",
   "id": "5d5aff95-10e3-4e40-9c0f-705ef2eec71a",
   "metadata": {},
   "source": [
    "4. Python documents says that you can pass an identifier with unlimited length\n",
    "\n",
    "Note:--> maximum 79 characters\n"
   ]
  },
  {
   "cell_type": "code",
   "execution_count": 9,
   "id": "def3de25-bf99-486f-90f5-dfb660089045",
   "metadata": {},
   "outputs": [
    {
     "data": {
      "text/plain": [
       "5"
      ]
     },
     "execution_count": 9,
     "metadata": {},
     "output_type": "execute_result"
    }
   ],
   "source": [
    "asdfghjkmnbvcswertyuikmnbvcxsertyj = 5\n",
    "\n",
    "asdfghjkmnbvcswertyuikmnbvcxsertyj"
   ]
  },
  {
   "cell_type": "markdown",
   "id": "dd8b4f40-7880-4dd9-a8ed-7265c619d0c9",
   "metadata": {},
   "source": [
    "5. Keywords can not be used in identifier part"
   ]
  },
  {
   "cell_type": "code",
   "execution_count": 10,
   "id": "bb59f026-1142-4866-983c-99207a99c71e",
   "metadata": {},
   "outputs": [
    {
     "ename": "SyntaxError",
     "evalue": "invalid syntax (2625162878.py, line 1)",
     "output_type": "error",
     "traceback": [
      "\u001b[1;36m  Cell \u001b[1;32mIn[10], line 1\u001b[1;36m\u001b[0m\n\u001b[1;33m    and = 20\u001b[0m\n\u001b[1;37m    ^\u001b[0m\n\u001b[1;31mSyntaxError\u001b[0m\u001b[1;31m:\u001b[0m invalid syntax\n"
     ]
    }
   ],
   "source": [
    "and = 20\n",
    "and"
   ]
  },
  {
   "cell_type": "code",
   "execution_count": 11,
   "id": "b4e357ee-7892-42ee-86a4-55d06870b8dc",
   "metadata": {},
   "outputs": [
    {
     "ename": "SyntaxError",
     "evalue": "cannot assign to True (2111614245.py, line 1)",
     "output_type": "error",
     "traceback": [
      "\u001b[1;36m  Cell \u001b[1;32mIn[11], line 1\u001b[1;36m\u001b[0m\n\u001b[1;33m    True = 10\u001b[0m\n\u001b[1;37m    ^\u001b[0m\n\u001b[1;31mSyntaxError\u001b[0m\u001b[1;31m:\u001b[0m cannot assign to True\n"
     ]
    }
   ],
   "source": [
    "True = 10\n",
    "True"
   ]
  },
  {
   "cell_type": "markdown",
   "id": "05756f6c-51b4-473c-9f8d-a4936ac22a02",
   "metadata": {},
   "source": [
    "PEP-8 (Python Enhancement proposal) \n",
    "Document that provides guidelines and\n",
    "how to practice on how to write Python code.\n"
   ]
  },
  {
   "cell_type": "markdown",
   "id": "b90ecc15-9b0a-49d0-ac40-c6ba504eec1c",
   "metadata": {},
   "source": [
    "According to PEP-8, identifier length should be 79 not more than that"
   ]
  },
  {
   "cell_type": "markdown",
   "id": "bea2630c-22cf-4d79-b2ea-f2e59f734ebb",
   "metadata": {},
   "source": [
    "#### Checking validity of Identifier :-\n",
    "Syntax :- 'identifier_name'.isidentifer()"
   ]
  },
  {
   "cell_type": "code",
   "execution_count": 13,
   "id": "4985e528-cb64-434d-96c9-46b48cc3082f",
   "metadata": {},
   "outputs": [
    {
     "data": {
      "text/plain": [
       "True"
      ]
     },
     "execution_count": 13,
     "metadata": {},
     "output_type": "execute_result"
    }
   ],
   "source": [
    "'abc'.isidentifier()"
   ]
  },
  {
   "cell_type": "code",
   "execution_count": 15,
   "id": "eefaa5e1-24ae-4400-8540-c3564ec2ba54",
   "metadata": {},
   "outputs": [
    {
     "ename": "AttributeError",
     "evalue": "'str' object has no attribute 'isidentifer'",
     "output_type": "error",
     "traceback": [
      "\u001b[1;31m---------------------------------------------------------------------------\u001b[0m",
      "\u001b[1;31mAttributeError\u001b[0m                            Traceback (most recent call last)",
      "Cell \u001b[1;32mIn[15], line 1\u001b[0m\n\u001b[1;32m----> 1\u001b[0m \u001b[38;5;124m'\u001b[39m\u001b[38;5;124m1ab\u001b[39m\u001b[38;5;124m'\u001b[39m\u001b[38;5;241m.\u001b[39misidentifer()\n",
      "\u001b[1;31mAttributeError\u001b[0m: 'str' object has no attribute 'isidentifer'"
     ]
    }
   ],
   "source": [
    "'1ab'.isidentifer()"
   ]
  },
  {
   "cell_type": "code",
   "execution_count": 17,
   "id": "a3a87a04-5cb0-4e1a-ab0f-a4a4ff2e37f0",
   "metadata": {},
   "outputs": [
    {
     "data": {
      "text/plain": [
       "True"
      ]
     },
     "execution_count": 17,
     "metadata": {},
     "output_type": "execute_result"
    }
   ],
   "source": [
    "'_xyz'.isidentifier()"
   ]
  },
  {
   "cell_type": "code",
   "execution_count": 18,
   "id": "574f46b6-08e7-42b9-9bff-db16b93a744a",
   "metadata": {},
   "outputs": [
    {
     "data": {
      "text/plain": [
       "False"
      ]
     },
     "execution_count": 18,
     "metadata": {},
     "output_type": "execute_result"
    }
   ],
   "source": [
    "'first name'.isidentifier()"
   ]
  },
  {
   "cell_type": "code",
   "execution_count": null,
   "id": "7925e928-c55d-4d8d-8bcc-27c15f5894b0",
   "metadata": {},
   "outputs": [],
   "source": []
  },
  {
   "cell_type": "code",
   "execution_count": null,
   "id": "45fa4650-29eb-4031-8b9a-52f0e549c01e",
   "metadata": {},
   "outputs": [],
   "source": []
  },
  {
   "cell_type": "code",
   "execution_count": null,
   "id": "859615c1-0335-4087-afb0-7cbbcedd91e5",
   "metadata": {},
   "outputs": [],
   "source": []
  },
  {
   "cell_type": "code",
   "execution_count": null,
   "id": "5f026016-d2e9-46d8-959b-d831206b6875",
   "metadata": {},
   "outputs": [],
   "source": []
  },
  {
   "cell_type": "code",
   "execution_count": null,
   "id": "0c057cdc-917b-4886-8f58-4d87ebce7c4e",
   "metadata": {},
   "outputs": [],
   "source": []
  },
  {
   "cell_type": "code",
   "execution_count": null,
   "id": "90c901fe-f259-48f8-af9b-972051135039",
   "metadata": {},
   "outputs": [],
   "source": []
  },
  {
   "cell_type": "code",
   "execution_count": null,
   "id": "6b52e954-4771-413b-ae70-59c1362b36d7",
   "metadata": {},
   "outputs": [],
   "source": []
  },
  {
   "cell_type": "code",
   "execution_count": null,
   "id": "5f464d29-f8c9-49e8-8168-1ba791bb60ee",
   "metadata": {},
   "outputs": [],
   "source": []
  },
  {
   "cell_type": "code",
   "execution_count": null,
   "id": "b7124150-7c82-4c37-aaf4-39336ea4b97d",
   "metadata": {},
   "outputs": [],
   "source": []
  },
  {
   "cell_type": "code",
   "execution_count": null,
   "id": "150e2406-53bb-4875-af35-417d19d3df61",
   "metadata": {},
   "outputs": [],
   "source": []
  },
  {
   "cell_type": "code",
   "execution_count": null,
   "id": "f04f05b6-2840-4993-8758-99f37c482b90",
   "metadata": {},
   "outputs": [],
   "source": []
  },
  {
   "cell_type": "code",
   "execution_count": null,
   "id": "bf7ac6a4-0ce8-4e53-be68-39a1a79596b8",
   "metadata": {},
   "outputs": [],
   "source": []
  },
  {
   "cell_type": "code",
   "execution_count": null,
   "id": "110e8822-a99c-407b-ae8d-0fc548ca2328",
   "metadata": {},
   "outputs": [],
   "source": []
  },
  {
   "cell_type": "code",
   "execution_count": null,
   "id": "aff4a073-102d-4576-8987-963d847a6c16",
   "metadata": {},
   "outputs": [],
   "source": []
  },
  {
   "cell_type": "code",
   "execution_count": null,
   "id": "d6a606e9-5e3f-4c9d-98f2-768edfc7de19",
   "metadata": {},
   "outputs": [],
   "source": []
  },
  {
   "cell_type": "code",
   "execution_count": null,
   "id": "df786d92-960c-45af-82e1-77f72082f00f",
   "metadata": {},
   "outputs": [],
   "source": []
  }
 ],
 "metadata": {
  "kernelspec": {
   "display_name": "Python [conda env:base] *",
   "language": "python",
   "name": "conda-base-py"
  },
  "language_info": {
   "codemirror_mode": {
    "name": "ipython",
    "version": 3
   },
   "file_extension": ".py",
   "mimetype": "text/x-python",
   "name": "python",
   "nbconvert_exporter": "python",
   "pygments_lexer": "ipython3",
   "version": "3.13.5"
  }
 },
 "nbformat": 4,
 "nbformat_minor": 5
}
