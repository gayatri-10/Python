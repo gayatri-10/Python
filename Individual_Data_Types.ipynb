{
 "cells": [
  {
   "cell_type": "markdown",
   "id": "94461d98-dd63-43c9-8a8f-61bb42b78203",
   "metadata": {},
   "source": [
    "#### Individual or Single-valued Data Types :\n",
    "1. Integer\n",
    "2. Float\n",
    "3. Complex\n",
    "4. Boolean"
   ]
  },
  {
   "cell_type": "markdown",
   "id": "42aa80a4-9416-450c-8b44-3c6c2df632b7",
   "metadata": {},
   "source": [
    "#### 1. Integer :-\n",
    "Any number that does not have a decimal or float value. It can be +ve or -ve.\n",
    "Represented as 'int'"
   ]
  },
  {
   "cell_type": "markdown",
   "id": "c20ae907-4d43-4208-a48e-d7ff7e3bf2c9",
   "metadata": {},
   "source": [
    "Ways to create variable with integer data type :"
   ]
  },
  {
   "cell_type": "code",
   "execution_count": 1,
   "id": "28ad8dde-bcc7-4eb1-8074-d5df4083b7b3",
   "metadata": {},
   "outputs": [
    {
     "data": {
      "text/plain": [
       "5"
      ]
     },
     "execution_count": 1,
     "metadata": {},
     "output_type": "execute_result"
    }
   ],
   "source": [
    "# Normal Way\n",
    "a = 5\n",
    "a"
   ]
  },
  {
   "cell_type": "code",
   "execution_count": 2,
   "id": "ad303724-d9d0-4c6e-b25f-5d2bed347f06",
   "metadata": {},
   "outputs": [
    {
     "data": {
      "text/plain": [
       "int"
      ]
     },
     "execution_count": 2,
     "metadata": {},
     "output_type": "execute_result"
    }
   ],
   "source": [
    "type(a)"
   ]
  },
  {
   "cell_type": "code",
   "execution_count": 3,
   "id": "2bc6252d-f34f-40da-aa56-c80ddbed4a6d",
   "metadata": {},
   "outputs": [
    {
     "data": {
      "text/plain": [
       "45"
      ]
     },
     "execution_count": 3,
     "metadata": {},
     "output_type": "execute_result"
    }
   ],
   "source": [
    "# By using object \n",
    "b = int(45)\n",
    "b"
   ]
  },
  {
   "cell_type": "code",
   "execution_count": 4,
   "id": "4f6481a9-0d63-4be1-9e5b-8fe0e01ad22d",
   "metadata": {},
   "outputs": [
    {
     "data": {
      "text/plain": [
       "int"
      ]
     },
     "execution_count": 4,
     "metadata": {},
     "output_type": "execute_result"
    }
   ],
   "source": [
    "type(b)"
   ]
  },
  {
   "cell_type": "code",
   "execution_count": 5,
   "id": "fcd2db05-8a53-49ca-b0b2-d2616cfef10c",
   "metadata": {},
   "outputs": [
    {
     "data": {
      "text/plain": [
       "0"
      ]
     },
     "execution_count": 5,
     "metadata": {},
     "output_type": "execute_result"
    }
   ],
   "source": [
    "c = int()          # default value\n",
    "c"
   ]
  },
  {
   "cell_type": "markdown",
   "id": "2a9c0b00-f37b-44aa-8220-797d6e5a4d85",
   "metadata": {},
   "source": [
    "#### 2. Float :-\n",
    "Number that has a decimal value. It can be both +ve and -ve. Represented as 'float'"
   ]
  },
  {
   "cell_type": "markdown",
   "id": "3459e21c-2022-43c8-9873-0f6135ef10cc",
   "metadata": {},
   "source": [
    "Ways to create variable with float data type :"
   ]
  },
  {
   "cell_type": "code",
   "execution_count": 6,
   "id": "c2148585-7e52-4167-951b-8c7f96a085e4",
   "metadata": {},
   "outputs": [
    {
     "data": {
      "text/plain": [
       "5.6"
      ]
     },
     "execution_count": 6,
     "metadata": {},
     "output_type": "execute_result"
    }
   ],
   "source": [
    "# Normal Way\n",
    "z = 5.6\n",
    "z"
   ]
  },
  {
   "cell_type": "code",
   "execution_count": 7,
   "id": "55818b85-a1f8-40ea-9387-7752fec85463",
   "metadata": {},
   "outputs": [
    {
     "data": {
      "text/plain": [
       "float"
      ]
     },
     "execution_count": 7,
     "metadata": {},
     "output_type": "execute_result"
    }
   ],
   "source": [
    "type(z)"
   ]
  },
  {
   "cell_type": "code",
   "execution_count": 8,
   "id": "54a02068-8e4e-43e1-9a40-78c63f61def3",
   "metadata": {},
   "outputs": [
    {
     "data": {
      "text/plain": [
       "22.0"
      ]
     },
     "execution_count": 8,
     "metadata": {},
     "output_type": "execute_result"
    }
   ],
   "source": [
    "# By using object\n",
    "x = float(22)\n",
    "x"
   ]
  },
  {
   "cell_type": "code",
   "execution_count": 9,
   "id": "ee3b68cc-0205-468a-ae68-7352ae8f3ba1",
   "metadata": {},
   "outputs": [
    {
     "data": {
      "text/plain": [
       "float"
      ]
     },
     "execution_count": 9,
     "metadata": {},
     "output_type": "execute_result"
    }
   ],
   "source": [
    "type(x)"
   ]
  },
  {
   "cell_type": "code",
   "execution_count": 10,
   "id": "90c971c7-5fee-41d3-b802-5484b27a09e1",
   "metadata": {},
   "outputs": [
    {
     "data": {
      "text/plain": [
       "0.0"
      ]
     },
     "execution_count": 10,
     "metadata": {},
     "output_type": "execute_result"
    }
   ],
   "source": [
    "d = float()            # default value\n",
    "d"
   ]
  },
  {
   "cell_type": "markdown",
   "id": "02624728-dd31-4ec9-aba7-bde281a69a35",
   "metadata": {},
   "source": [
    "#### 3. Complex :-\n",
    "Any number in the form of 'a + bj' is a complex number. It is the combination of real and imaginary part where 'a' is the real part and 'bj' is the imaginary part. Internal value of 'j' is underroot -1"
   ]
  },
  {
   "cell_type": "markdown",
   "id": "7b50e918-8488-48d1-b32f-89d5eb696c9a",
   "metadata": {},
   "source": [
    "Ways to create variable with complex data type :"
   ]
  },
  {
   "cell_type": "code",
   "execution_count": 11,
   "id": "c79ac2d0-7f62-49f8-8c43-81f22e271499",
   "metadata": {},
   "outputs": [
    {
     "data": {
      "text/plain": [
       "(3+4j)"
      ]
     },
     "execution_count": 11,
     "metadata": {},
     "output_type": "execute_result"
    }
   ],
   "source": [
    "# Normal way\n",
    "y = 3+4j\n",
    "y"
   ]
  },
  {
   "cell_type": "code",
   "execution_count": 12,
   "id": "db73952d-550c-4033-81bf-3443434e9ae5",
   "metadata": {},
   "outputs": [
    {
     "data": {
      "text/plain": [
       "complex"
      ]
     },
     "execution_count": 12,
     "metadata": {},
     "output_type": "execute_result"
    }
   ],
   "source": [
    "type(y)"
   ]
  },
  {
   "cell_type": "code",
   "execution_count": 13,
   "id": "ebc4074b-545f-44ef-a437-abf08e2f3d6c",
   "metadata": {},
   "outputs": [
    {
     "data": {
      "text/plain": [
       "(24+16j)"
      ]
     },
     "execution_count": 13,
     "metadata": {},
     "output_type": "execute_result"
    }
   ],
   "source": [
    "# By using constructor\n",
    "g = complex(24, 16)\n",
    "g"
   ]
  },
  {
   "cell_type": "code",
   "execution_count": 14,
   "id": "2232c4a0-07b4-4db9-addb-8a200558feba",
   "metadata": {},
   "outputs": [
    {
     "data": {
      "text/plain": [
       "complex"
      ]
     },
     "execution_count": 14,
     "metadata": {},
     "output_type": "execute_result"
    }
   ],
   "source": [
    "type(g)"
   ]
  },
  {
   "cell_type": "code",
   "execution_count": 17,
   "id": "464ccce6-443d-479a-8c02-fc0380070c82",
   "metadata": {},
   "outputs": [
    {
     "data": {
      "text/plain": [
       "0j"
      ]
     },
     "execution_count": 17,
     "metadata": {},
     "output_type": "execute_result"
    }
   ],
   "source": [
    "w = complex()           # default value\n",
    "w"
   ]
  },
  {
   "cell_type": "code",
   "execution_count": 15,
   "id": "e61cc3ca-194b-41f5-b4c9-64bce75335b2",
   "metadata": {},
   "outputs": [
    {
     "data": {
      "text/plain": [
       "32.0"
      ]
     },
     "execution_count": 15,
     "metadata": {},
     "output_type": "execute_result"
    }
   ],
   "source": [
    "# Fetching only the real part of complex number\n",
    "e = 32+7j\n",
    "e.real"
   ]
  },
  {
   "cell_type": "code",
   "execution_count": 16,
   "id": "8ff12919-f008-45e4-a75d-46bddf8edda0",
   "metadata": {},
   "outputs": [
    {
     "data": {
      "text/plain": [
       "98.0"
      ]
     },
     "execution_count": 16,
     "metadata": {},
     "output_type": "execute_result"
    }
   ],
   "source": [
    "# Fetching only the imaginary part of complex number\n",
    "h = 67+98j\n",
    "h.imag"
   ]
  },
  {
   "cell_type": "markdown",
   "id": "9024764c-cad1-45ca-966d-7523783d6fd2",
   "metadata": {},
   "source": [
    "#### 4. Boolean :-\n",
    "It has only two values: True, False. Where True = 1 and False = 0. It is useful to check the conditions"
   ]
  },
  {
   "cell_type": "code",
   "execution_count": 18,
   "id": "d5595b1a-2d31-478e-b02a-882e8d9c04c9",
   "metadata": {},
   "outputs": [
    {
     "data": {
      "text/plain": [
       "True"
      ]
     },
     "execution_count": 18,
     "metadata": {},
     "output_type": "execute_result"
    }
   ],
   "source": [
    "a = True\n",
    "a"
   ]
  },
  {
   "cell_type": "code",
   "execution_count": 19,
   "id": "231243b7-76d3-4bc7-a5b5-b1f66c3987d6",
   "metadata": {},
   "outputs": [
    {
     "data": {
      "text/plain": [
       "bool"
      ]
     },
     "execution_count": 19,
     "metadata": {},
     "output_type": "execute_result"
    }
   ],
   "source": [
    "type(a)"
   ]
  },
  {
   "cell_type": "code",
   "execution_count": 22,
   "id": "475b773c-f5c5-4de2-aec2-97f3ba147640",
   "metadata": {},
   "outputs": [
    {
     "data": {
      "text/plain": [
       "True"
      ]
     },
     "execution_count": 22,
     "metadata": {},
     "output_type": "execute_result"
    }
   ],
   "source": [
    "b = bool(65)\n",
    "b"
   ]
  },
  {
   "cell_type": "code",
   "execution_count": 24,
   "id": "c1858a84-3484-4878-b2c0-8806c7c384c1",
   "metadata": {},
   "outputs": [
    {
     "data": {
      "text/plain": [
       "False"
      ]
     },
     "execution_count": 24,
     "metadata": {},
     "output_type": "execute_result"
    }
   ],
   "source": [
    "c = bool(0)\n",
    "c"
   ]
  },
  {
   "cell_type": "code",
   "execution_count": 25,
   "id": "7a6da6d8-b2d9-4909-be1d-ca90e941e477",
   "metadata": {},
   "outputs": [
    {
     "data": {
      "text/plain": [
       "True"
      ]
     },
     "execution_count": 25,
     "metadata": {},
     "output_type": "execute_result"
    }
   ],
   "source": [
    "bool(1)"
   ]
  },
  {
   "cell_type": "code",
   "execution_count": 26,
   "id": "26be1af1-5811-4b32-b7e5-ba7c19558f06",
   "metadata": {},
   "outputs": [
    {
     "data": {
      "text/plain": [
       "True"
      ]
     },
     "execution_count": 26,
     "metadata": {},
     "output_type": "execute_result"
    }
   ],
   "source": [
    "f = bool(7+5j)\n",
    "f"
   ]
  }
 ],
 "metadata": {
  "kernelspec": {
   "display_name": "Python [conda env:base] *",
   "language": "python",
   "name": "conda-base-py"
  },
  "language_info": {
   "codemirror_mode": {
    "name": "ipython",
    "version": 3
   },
   "file_extension": ".py",
   "mimetype": "text/x-python",
   "name": "python",
   "nbconvert_exporter": "python",
   "pygments_lexer": "ipython3",
   "version": "3.13.5"
  }
 },
 "nbformat": 4,
 "nbformat_minor": 5
}
